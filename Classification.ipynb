{
 "cells": [
  {
   "cell_type": "code",
   "execution_count": 1,
   "metadata": {},
   "outputs": [],
   "source": [
    "import pandas as pd"
   ]
  },
  {
   "cell_type": "code",
   "execution_count": 2,
   "metadata": {},
   "outputs": [],
   "source": [
    "df = pd.read_csv(\"C:/Users/mario/OneDrive/Bureau/M1 Eco Stats/Python S2/Airbnb/Dataframefinal_clean.csv\")"
   ]
  },
  {
   "cell_type": "code",
   "execution_count": 3,
   "metadata": {},
   "outputs": [],
   "source": [
    "df = df.drop(['Unnamed: 0', 'Unnamed: 0.2', 'Unnamed: 0.1', 'Localisation', 'name', 'date', 'Emplacement', 'Localisation2'], axis=1)"
   ]
  },
  {
   "cell_type": "code",
   "execution_count": 4,
   "metadata": {},
   "outputs": [
    {
     "data": {
      "text/html": [
       "<div>\n",
       "<style scoped>\n",
       "    .dataframe tbody tr th:only-of-type {\n",
       "        vertical-align: middle;\n",
       "    }\n",
       "\n",
       "    .dataframe tbody tr th {\n",
       "        vertical-align: top;\n",
       "    }\n",
       "\n",
       "    .dataframe thead th {\n",
       "        text-align: right;\n",
       "    }\n",
       "</style>\n",
       "<table border=\"1\" class=\"dataframe\">\n",
       "  <thead>\n",
       "    <tr style=\"text-align: right;\">\n",
       "      <th></th>\n",
       "      <th>Nombre de chambres</th>\n",
       "      <th>Prix par nuit</th>\n",
       "      <th>Nombre de voyageurs</th>\n",
       "      <th>Nombre de lits</th>\n",
       "      <th>Nombre de salles de bains</th>\n",
       "      <th>Vue sur le jardin_True</th>\n",
       "      <th>Vue sur la vallée_True</th>\n",
       "      <th>Vue sur la montagne_True</th>\n",
       "      <th>Baignoire_True</th>\n",
       "      <th>Sèche-cheveux_True</th>\n",
       "      <th>...</th>\n",
       "      <th>Ascenseur_True</th>\n",
       "      <th>Climatisation_True</th>\n",
       "      <th>Piscine_True</th>\n",
       "      <th>Vue sur le lac_True</th>\n",
       "      <th>Vue sur la baie_True</th>\n",
       "      <th>Saison</th>\n",
       "      <th>Score</th>\n",
       "      <th>Score1</th>\n",
       "      <th>Score2</th>\n",
       "      <th>Logement codé</th>\n",
       "    </tr>\n",
       "  </thead>\n",
       "  <tbody>\n",
       "    <tr>\n",
       "      <th>0</th>\n",
       "      <td>1.0</td>\n",
       "      <td>27.0</td>\n",
       "      <td>1.0</td>\n",
       "      <td>1.0</td>\n",
       "      <td>1.0</td>\n",
       "      <td>0</td>\n",
       "      <td>0</td>\n",
       "      <td>0</td>\n",
       "      <td>0</td>\n",
       "      <td>1</td>\n",
       "      <td>...</td>\n",
       "      <td>0</td>\n",
       "      <td>0</td>\n",
       "      <td>0</td>\n",
       "      <td>0</td>\n",
       "      <td>0</td>\n",
       "      <td>0.0</td>\n",
       "      <td>-0.037923</td>\n",
       "      <td>-0.281573</td>\n",
       "      <td>-0.721694</td>\n",
       "      <td>2.0</td>\n",
       "    </tr>\n",
       "    <tr>\n",
       "      <th>1</th>\n",
       "      <td>1.0</td>\n",
       "      <td>90.0</td>\n",
       "      <td>4.0</td>\n",
       "      <td>4.0</td>\n",
       "      <td>1.0</td>\n",
       "      <td>1</td>\n",
       "      <td>0</td>\n",
       "      <td>1</td>\n",
       "      <td>0</td>\n",
       "      <td>1</td>\n",
       "      <td>...</td>\n",
       "      <td>0</td>\n",
       "      <td>0</td>\n",
       "      <td>0</td>\n",
       "      <td>1</td>\n",
       "      <td>0</td>\n",
       "      <td>0.0</td>\n",
       "      <td>0.355693</td>\n",
       "      <td>0.240040</td>\n",
       "      <td>-0.096574</td>\n",
       "      <td>4.0</td>\n",
       "    </tr>\n",
       "    <tr>\n",
       "      <th>2</th>\n",
       "      <td>1.0</td>\n",
       "      <td>50.0</td>\n",
       "      <td>2.0</td>\n",
       "      <td>1.0</td>\n",
       "      <td>1.0</td>\n",
       "      <td>0</td>\n",
       "      <td>0</td>\n",
       "      <td>0</td>\n",
       "      <td>0</td>\n",
       "      <td>0</td>\n",
       "      <td>...</td>\n",
       "      <td>0</td>\n",
       "      <td>0</td>\n",
       "      <td>0</td>\n",
       "      <td>0</td>\n",
       "      <td>0</td>\n",
       "      <td>0.0</td>\n",
       "      <td>0.326580</td>\n",
       "      <td>0.096383</td>\n",
       "      <td>-0.038575</td>\n",
       "      <td>5.0</td>\n",
       "    </tr>\n",
       "    <tr>\n",
       "      <th>3</th>\n",
       "      <td>1.0</td>\n",
       "      <td>190.0</td>\n",
       "      <td>4.0</td>\n",
       "      <td>2.0</td>\n",
       "      <td>1.0</td>\n",
       "      <td>0</td>\n",
       "      <td>0</td>\n",
       "      <td>0</td>\n",
       "      <td>0</td>\n",
       "      <td>1</td>\n",
       "      <td>...</td>\n",
       "      <td>1</td>\n",
       "      <td>0</td>\n",
       "      <td>0</td>\n",
       "      <td>0</td>\n",
       "      <td>0</td>\n",
       "      <td>0.0</td>\n",
       "      <td>0.751613</td>\n",
       "      <td>0.599922</td>\n",
       "      <td>0.638247</td>\n",
       "      <td>4.0</td>\n",
       "    </tr>\n",
       "    <tr>\n",
       "      <th>4</th>\n",
       "      <td>1.0</td>\n",
       "      <td>85.0</td>\n",
       "      <td>4.0</td>\n",
       "      <td>2.0</td>\n",
       "      <td>1.0</td>\n",
       "      <td>0</td>\n",
       "      <td>1</td>\n",
       "      <td>1</td>\n",
       "      <td>0</td>\n",
       "      <td>0</td>\n",
       "      <td>...</td>\n",
       "      <td>0</td>\n",
       "      <td>0</td>\n",
       "      <td>0</td>\n",
       "      <td>1</td>\n",
       "      <td>0</td>\n",
       "      <td>0.0</td>\n",
       "      <td>0.074936</td>\n",
       "      <td>-0.252272</td>\n",
       "      <td>-0.610029</td>\n",
       "      <td>4.0</td>\n",
       "    </tr>\n",
       "    <tr>\n",
       "      <th>...</th>\n",
       "      <td>...</td>\n",
       "      <td>...</td>\n",
       "      <td>...</td>\n",
       "      <td>...</td>\n",
       "      <td>...</td>\n",
       "      <td>...</td>\n",
       "      <td>...</td>\n",
       "      <td>...</td>\n",
       "      <td>...</td>\n",
       "      <td>...</td>\n",
       "      <td>...</td>\n",
       "      <td>...</td>\n",
       "      <td>...</td>\n",
       "      <td>...</td>\n",
       "      <td>...</td>\n",
       "      <td>...</td>\n",
       "      <td>...</td>\n",
       "      <td>...</td>\n",
       "      <td>...</td>\n",
       "      <td>...</td>\n",
       "      <td>...</td>\n",
       "    </tr>\n",
       "    <tr>\n",
       "      <th>1007</th>\n",
       "      <td>1.0</td>\n",
       "      <td>155.0</td>\n",
       "      <td>4.0</td>\n",
       "      <td>2.0</td>\n",
       "      <td>1.0</td>\n",
       "      <td>0</td>\n",
       "      <td>0</td>\n",
       "      <td>0</td>\n",
       "      <td>1</td>\n",
       "      <td>1</td>\n",
       "      <td>...</td>\n",
       "      <td>0</td>\n",
       "      <td>1</td>\n",
       "      <td>0</td>\n",
       "      <td>0</td>\n",
       "      <td>0</td>\n",
       "      <td>0.0</td>\n",
       "      <td>0.865991</td>\n",
       "      <td>0.680334</td>\n",
       "      <td>0.865991</td>\n",
       "      <td>4.0</td>\n",
       "    </tr>\n",
       "    <tr>\n",
       "      <th>1008</th>\n",
       "      <td>3.0</td>\n",
       "      <td>354.0</td>\n",
       "      <td>6.0</td>\n",
       "      <td>3.0</td>\n",
       "      <td>3.0</td>\n",
       "      <td>0</td>\n",
       "      <td>0</td>\n",
       "      <td>0</td>\n",
       "      <td>0</td>\n",
       "      <td>1</td>\n",
       "      <td>...</td>\n",
       "      <td>0</td>\n",
       "      <td>1</td>\n",
       "      <td>0</td>\n",
       "      <td>0</td>\n",
       "      <td>0</td>\n",
       "      <td>0.0</td>\n",
       "      <td>0.865991</td>\n",
       "      <td>0.680334</td>\n",
       "      <td>0.865991</td>\n",
       "      <td>4.0</td>\n",
       "    </tr>\n",
       "    <tr>\n",
       "      <th>1009</th>\n",
       "      <td>1.0</td>\n",
       "      <td>205.0</td>\n",
       "      <td>3.0</td>\n",
       "      <td>1.0</td>\n",
       "      <td>1.0</td>\n",
       "      <td>0</td>\n",
       "      <td>1</td>\n",
       "      <td>1</td>\n",
       "      <td>0</td>\n",
       "      <td>1</td>\n",
       "      <td>...</td>\n",
       "      <td>0</td>\n",
       "      <td>0</td>\n",
       "      <td>1</td>\n",
       "      <td>1</td>\n",
       "      <td>0</td>\n",
       "      <td>0.0</td>\n",
       "      <td>-0.037923</td>\n",
       "      <td>-0.281573</td>\n",
       "      <td>-0.721694</td>\n",
       "      <td>4.0</td>\n",
       "    </tr>\n",
       "    <tr>\n",
       "      <th>1010</th>\n",
       "      <td>1.0</td>\n",
       "      <td>120.0</td>\n",
       "      <td>3.0</td>\n",
       "      <td>3.0</td>\n",
       "      <td>1.0</td>\n",
       "      <td>0</td>\n",
       "      <td>0</td>\n",
       "      <td>0</td>\n",
       "      <td>1</td>\n",
       "      <td>1</td>\n",
       "      <td>...</td>\n",
       "      <td>0</td>\n",
       "      <td>0</td>\n",
       "      <td>0</td>\n",
       "      <td>0</td>\n",
       "      <td>0</td>\n",
       "      <td>0.0</td>\n",
       "      <td>0.838768</td>\n",
       "      <td>0.653977</td>\n",
       "      <td>0.701537</td>\n",
       "      <td>5.0</td>\n",
       "    </tr>\n",
       "    <tr>\n",
       "      <th>1011</th>\n",
       "      <td>1.0</td>\n",
       "      <td>120.0</td>\n",
       "      <td>4.0</td>\n",
       "      <td>1.0</td>\n",
       "      <td>1.0</td>\n",
       "      <td>0</td>\n",
       "      <td>0</td>\n",
       "      <td>0</td>\n",
       "      <td>0</td>\n",
       "      <td>0</td>\n",
       "      <td>...</td>\n",
       "      <td>0</td>\n",
       "      <td>0</td>\n",
       "      <td>0</td>\n",
       "      <td>0</td>\n",
       "      <td>0</td>\n",
       "      <td>0.0</td>\n",
       "      <td>0.865991</td>\n",
       "      <td>0.680334</td>\n",
       "      <td>0.865991</td>\n",
       "      <td>4.0</td>\n",
       "    </tr>\n",
       "  </tbody>\n",
       "</table>\n",
       "<p>1012 rows × 40 columns</p>\n",
       "</div>"
      ],
      "text/plain": [
       "      Nombre de chambres  Prix par nuit  Nombre de voyageurs  Nombre de lits  \\\n",
       "0                    1.0           27.0                  1.0             1.0   \n",
       "1                    1.0           90.0                  4.0             4.0   \n",
       "2                    1.0           50.0                  2.0             1.0   \n",
       "3                    1.0          190.0                  4.0             2.0   \n",
       "4                    1.0           85.0                  4.0             2.0   \n",
       "...                  ...            ...                  ...             ...   \n",
       "1007                 1.0          155.0                  4.0             2.0   \n",
       "1008                 3.0          354.0                  6.0             3.0   \n",
       "1009                 1.0          205.0                  3.0             1.0   \n",
       "1010                 1.0          120.0                  3.0             3.0   \n",
       "1011                 1.0          120.0                  4.0             1.0   \n",
       "\n",
       "      Nombre de salles de bains  Vue sur le jardin_True  \\\n",
       "0                           1.0                       0   \n",
       "1                           1.0                       1   \n",
       "2                           1.0                       0   \n",
       "3                           1.0                       0   \n",
       "4                           1.0                       0   \n",
       "...                         ...                     ...   \n",
       "1007                        1.0                       0   \n",
       "1008                        3.0                       0   \n",
       "1009                        1.0                       0   \n",
       "1010                        1.0                       0   \n",
       "1011                        1.0                       0   \n",
       "\n",
       "      Vue sur la vallée_True  Vue sur la montagne_True  Baignoire_True  \\\n",
       "0                          0                         0               0   \n",
       "1                          0                         1               0   \n",
       "2                          0                         0               0   \n",
       "3                          0                         0               0   \n",
       "4                          1                         1               0   \n",
       "...                      ...                       ...             ...   \n",
       "1007                       0                         0               1   \n",
       "1008                       0                         0               0   \n",
       "1009                       1                         1               0   \n",
       "1010                       0                         0               1   \n",
       "1011                       0                         0               0   \n",
       "\n",
       "      Sèche-cheveux_True  ...  Ascenseur_True  Climatisation_True  \\\n",
       "0                      1  ...               0                   0   \n",
       "1                      1  ...               0                   0   \n",
       "2                      0  ...               0                   0   \n",
       "3                      1  ...               1                   0   \n",
       "4                      0  ...               0                   0   \n",
       "...                  ...  ...             ...                 ...   \n",
       "1007                   1  ...               0                   1   \n",
       "1008                   1  ...               0                   1   \n",
       "1009                   1  ...               0                   0   \n",
       "1010                   1  ...               0                   0   \n",
       "1011                   0  ...               0                   0   \n",
       "\n",
       "      Piscine_True  Vue sur le lac_True  Vue sur la baie_True  Saison  \\\n",
       "0                0                    0                     0     0.0   \n",
       "1                0                    1                     0     0.0   \n",
       "2                0                    0                     0     0.0   \n",
       "3                0                    0                     0     0.0   \n",
       "4                0                    1                     0     0.0   \n",
       "...            ...                  ...                   ...     ...   \n",
       "1007             0                    0                     0     0.0   \n",
       "1008             0                    0                     0     0.0   \n",
       "1009             1                    1                     0     0.0   \n",
       "1010             0                    0                     0     0.0   \n",
       "1011             0                    0                     0     0.0   \n",
       "\n",
       "         Score    Score1    Score2  Logement codé  \n",
       "0    -0.037923 -0.281573 -0.721694            2.0  \n",
       "1     0.355693  0.240040 -0.096574            4.0  \n",
       "2     0.326580  0.096383 -0.038575            5.0  \n",
       "3     0.751613  0.599922  0.638247            4.0  \n",
       "4     0.074936 -0.252272 -0.610029            4.0  \n",
       "...        ...       ...       ...            ...  \n",
       "1007  0.865991  0.680334  0.865991            4.0  \n",
       "1008  0.865991  0.680334  0.865991            4.0  \n",
       "1009 -0.037923 -0.281573 -0.721694            4.0  \n",
       "1010  0.838768  0.653977  0.701537            5.0  \n",
       "1011  0.865991  0.680334  0.865991            4.0  \n",
       "\n",
       "[1012 rows x 40 columns]"
      ]
     },
     "execution_count": 4,
     "metadata": {},
     "output_type": "execute_result"
    }
   ],
   "source": [
    "df"
   ]
  },
  {
   "cell_type": "markdown",
   "metadata": {},
   "source": [
    "Our goal here is to develop a classification model that will allow us to identify housing types. To do this, we tested three classification algorithms, which we ranked according to the F1 score. The F1-score is a useful metric for evaluating the performance of classification models with 2 or more classes. It combines the precision and recall scores of a classifier into a single metric by taking their harmonic mean."
   ]
  },
  {
   "cell_type": "markdown",
   "metadata": {},
   "source": [
    "But first, we had to choose our most relevant explanatory variables through a Random Forest."
   ]
  },
  {
   "cell_type": "code",
   "execution_count": 5,
   "metadata": {},
   "outputs": [
    {
     "data": {
      "text/plain": [
       "Prix par nuit                 0.125734\n",
       "Nombre de voyageurs           0.074425\n",
       "Score2                        0.065839\n",
       "Score1                        0.065047\n",
       "Score                         0.062624\n",
       "Vaisselle et couverts_True    0.048161\n",
       "Nombre de lits                0.040265\n",
       "Four_True                     0.036725\n",
       "Cuisine_True                  0.032442\n",
       "Nombre de chambres            0.028307\n",
       "Lave-linge_True               0.026084\n",
       "Saison                        0.023944\n",
       "Oreillers_True                0.021278\n",
       "Climatisation_True            0.020153\n",
       "TV_True                       0.020037\n",
       "Vue sur le jardin_True        0.018742\n",
       "Vue sur la montagne_True      0.018169\n",
       "Bidet_True                    0.018126\n",
       "Fer à repasser_True           0.017418\n",
       "Vue sur le lac_True           0.017044\n",
       "Nombre de salles de bains     0.015901\n",
       "Livres_True                   0.015734\n",
       "Baignoire_True                0.015516\n",
       "Wifi_True                     0.015037\n",
       "Chauffage_True                0.014872\n",
       "Draps_True                    0.014667\n",
       "Ventilateurs_True             0.014027\n",
       "Jardin privé_True             0.013954\n",
       "Piscine_True                  0.013530\n",
       "Parking gratuit_True          0.013124\n",
       "Ascenseur_True                0.010710\n",
       "Cintres_True                  0.010574\n",
       "Eau chaude_True               0.010474\n",
       "Equipements de base_True      0.009125\n",
       "Armoire_True                  0.009098\n",
       "Vue sur la vallée_True        0.008749\n",
       "Sèche-cheveux_True            0.008090\n",
       "Vue sur la baie_True          0.003904\n",
       "Garage résidentiel_True       0.002350\n",
       "dtype: float64"
      ]
     },
     "execution_count": 5,
     "metadata": {},
     "output_type": "execute_result"
    }
   ],
   "source": [
    "# We define X as the features set and y as the target set\n",
    "X = df.drop(['Logement codé'],axis=1)\n",
    "y = df['Logement codé']\n",
    "\n",
    "# We display each variable's accuracy\n",
    "from sklearn.ensemble import RandomForestClassifier\n",
    "rf = RandomForestClassifier()\n",
    "rf.fit(X, y)\n",
    "imp_var = pd.Series(rf.feature_importances_, index = X.columns).sort_values(ascending = False)\n",
    "imp_var"
   ]
  },
  {
   "cell_type": "code",
   "execution_count": 6,
   "metadata": {},
   "outputs": [],
   "source": [
    "# We decide to keep only the 5 first variables, since we want to avoid overfitting issues\n",
    "X = X[['Prix par nuit', 'Nombre de voyageurs', 'Vaisselle et couverts_True', 'Score']]"
   ]
  },
  {
   "cell_type": "code",
   "execution_count": 7,
   "metadata": {},
   "outputs": [],
   "source": [
    "from sklearn.model_selection import train_test_split\n",
    "\n",
    "# We split our dataset with a 60 % train set, and a 40 % test set\n",
    "\n",
    "X_train, X_test, y_train, y_test = train_test_split(X, y, test_size = 0.7, \n",
    "                                                    shuffle = True, stratify=y)\n",
    "\n",
    "X_val, X_test, y_val, y_test = train_test_split(X_test, y_test, test_size = 0.3, \n",
    "                                                    shuffle = True, stratify=y_test)"
   ]
  },
  {
   "cell_type": "markdown",
   "metadata": {},
   "source": [
    "## Naive Bayes"
   ]
  },
  {
   "cell_type": "markdown",
   "metadata": {},
   "source": [
    "The naive Bayes classifier is based on Bayes' theorem and is a classic of probability theory. It is based on conditional probabilities."
   ]
  },
  {
   "cell_type": "code",
   "execution_count": 8,
   "metadata": {},
   "outputs": [
    {
     "data": {
      "text/plain": [
       "0.5558313590129615"
      ]
     },
     "execution_count": 8,
     "metadata": {},
     "output_type": "execute_result"
    }
   ],
   "source": [
    "from sklearn.model_selection import train_test_split\n",
    "from sklearn.naive_bayes import GaussianNB\n",
    "gnb = GaussianNB()\n",
    "y_pred_nb = gnb.fit(X_train, y_train).predict(X_test)\n",
    "\n",
    "from sklearn.metrics import f1_score\n",
    "f1_score(y_test, y_pred_nb, average = 'weighted')"
   ]
  },
  {
   "cell_type": "markdown",
   "metadata": {},
   "source": [
    "## Support Vector Classification"
   ]
  },
  {
   "cell_type": "markdown",
   "metadata": {},
   "source": [
    "The SVC algorithm is part of the Support Vector Machine family. An SVM is an algorithm that uses the vector component of the elements of the training dataset to determine a preferred orientation."
   ]
  },
  {
   "cell_type": "code",
   "execution_count": 9,
   "metadata": {},
   "outputs": [
    {
     "data": {
      "text/plain": [
       "0.497625677657156"
      ]
     },
     "execution_count": 9,
     "metadata": {},
     "output_type": "execute_result"
    }
   ],
   "source": [
    "from sklearn import svm\n",
    "C = 1.0 # regularization parameter\n",
    "svc = svm.SVC(C=C)\n",
    "svc.fit(X_train, y_train)\n",
    "y_pred_svc = svc.predict(X_test)\n",
    "\n",
    "f1_score(y_test, y_pred_svc, average = 'weighted')"
   ]
  },
  {
   "cell_type": "markdown",
   "metadata": {},
   "source": [
    "## K Nearest Neighbors"
   ]
  },
  {
   "cell_type": "markdown",
   "metadata": {},
   "source": [
    "This algorithm allows to retain the most represented class among the k outputs associated with the k inputs closest to the new input x."
   ]
  },
  {
   "cell_type": "code",
   "execution_count": 10,
   "metadata": {},
   "outputs": [
    {
     "data": {
      "text/plain": [
       "0.5657913917068846"
      ]
     },
     "execution_count": 10,
     "metadata": {},
     "output_type": "execute_result"
    }
   ],
   "source": [
    "from sklearn.neighbors import KNeighborsClassifier\n",
    "#instanciation et définition du k\n",
    "knn = KNeighborsClassifier(n_neighbors = 3)\n",
    "#training\n",
    "knn.fit(X_train,y_train)\n",
    "\n",
    "y_pred_knn = knn.predict(X_test)\n",
    "\n",
    "f1_score(y_test, y_pred_knn, average = 'weighted')"
   ]
  },
  {
   "cell_type": "markdown",
   "metadata": {},
   "source": [
    "## Random Forest"
   ]
  },
  {
   "cell_type": "markdown",
   "metadata": {},
   "source": [
    "The Random Forest algorithm is a classification algorithm that reduces the variance of the predictions of a single decision tree, thus improving its performance. To do this, it combines many decision trees in a bagging approach."
   ]
  },
  {
   "cell_type": "code",
   "execution_count": 11,
   "metadata": {},
   "outputs": [],
   "source": [
    "from sklearn.ensemble import RandomForestClassifier\n",
    "rf_estimator = RandomForestClassifier()"
   ]
  },
  {
   "cell_type": "code",
   "execution_count": 12,
   "metadata": {},
   "outputs": [],
   "source": [
    "# We fit the Random Forest on our train set\n",
    "rf_estimator.fit(X_train, y_train)\n",
    "# Then we predict our target based on X_train, the features train set, and we stock it in y_train_pred\n",
    "y_train_pred_rf = rf_estimator.predict(X_train)"
   ]
  },
  {
   "cell_type": "code",
   "execution_count": 13,
   "metadata": {},
   "outputs": [],
   "source": [
    "# We now fit the Random Forest on our test set\n",
    "rf_estimator.fit(X_test, y_test)\n",
    "# Then we predict our target based on X_test, the features test set, and we stock it in y_test_pred\n",
    "y_test_pred_rf = rf_estimator.predict(X_test)"
   ]
  },
  {
   "cell_type": "code",
   "execution_count": 14,
   "metadata": {},
   "outputs": [
    {
     "data": {
      "text/plain": [
       "0.9758366133952989"
      ]
     },
     "execution_count": 14,
     "metadata": {},
     "output_type": "execute_result"
    }
   ],
   "source": [
    "# We show our recall score on our test set\n",
    "f1_score(y_test, y_test_pred_rf, average = 'weighted')"
   ]
  },
  {
   "cell_type": "markdown",
   "metadata": {},
   "source": [
    "In view of the results, we will choose to keep the model based on a Random Forest, with a F1-score of 97 %."
   ]
  }
 ],
 "metadata": {
  "kernelspec": {
   "display_name": "Python 3",
   "language": "python",
   "name": "python3"
  },
  "language_info": {
   "codemirror_mode": {
    "name": "ipython",
    "version": 3
   },
   "file_extension": ".py",
   "mimetype": "text/x-python",
   "name": "python",
   "nbconvert_exporter": "python",
   "pygments_lexer": "ipython3",
   "version": "3.8.5"
  }
 },
 "nbformat": 4,
 "nbformat_minor": 4
}
